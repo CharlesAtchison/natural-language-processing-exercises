{
 "cells": [
  {
   "cell_type": "markdown",
   "id": "1f929ee5",
   "metadata": {},
   "source": [
    "# Data Acquisition"
   ]
  },
  {
   "cell_type": "code",
   "execution_count": 1,
   "id": "b413c298",
   "metadata": {},
   "outputs": [],
   "source": [
    "from requests import get\n",
    "from bs4 import BeautifulSoup\n",
    "import pandas as pd\n",
    "import os, re, csv\n",
    "from acquire import *"
   ]
  },
  {
   "cell_type": "markdown",
   "id": "9b6bbadb",
   "metadata": {},
   "source": [
    "## Codeup Blog Articles\n",
    "\n",
    "1. Scrape the article text from the following pages:\n",
    "\n",
    "> - https://codeup.com/codeups-data-science-career-accelerator-is-here/\n",
    "> - https://codeup.com/data-science-myths/\n",
    "> - https://codeup.com/data-science-vs-data-analytics-whats-the-difference/\n",
    "> - https://codeup.com/10-tips-to-crush-it-at-the-sa-tech-job-fair/\n",
    "> - https://codeup.com/competitor-bootcamps-are-closing-is-the-model-in-danger/\n",
    "\n",
    "Encapsulate your work in a function named `get_blog_articles` that will return a list of dictionaries, with each dictionary representing one article. The shape of each dictionary should look like this:\n",
    "\n",
    "``` python\n",
    "{\n",
    "    'title': 'the title of the article',\n",
    "    'content': 'the full text content of the article'\n",
    "}\n",
    "```"
   ]
  },
  {
   "cell_type": "code",
   "execution_count": 2,
   "id": "d4c52af8",
   "metadata": {},
   "outputs": [],
   "source": [
    "urls = [\n",
    "    'https://codeup.com/codeups-data-science-career-accelerator-is-here/',\n",
    "    'https://codeup.com/data-science-myths/',\n",
    "    'https://codeup.com/data-science-vs-data-analytics-whats-the-difference/',\n",
    "    'https://codeup.com/10-tips-to-crush-it-at-the-sa-tech-job-fair/',\n",
    "    'https://codeup.com/competitor-bootcamps-are-closing-is-the-model-in-danger/'\n",
    "]\n",
    "headers = {\n",
    "    'User-Agent': 'Codeup Data Science'\n",
    "}\n",
    "        \n",
    "articles = list()\n",
    "for url in urls:\n",
    "    articles.append(get_blog_article(url))\n"
   ]
  },
  {
   "cell_type": "markdown",
   "id": "35c4f693",
   "metadata": {},
   "source": [
    "## Bonus Scrape all Codeup Blogs"
   ]
  },
  {
   "cell_type": "code",
   "execution_count": 3,
   "id": "7f6977f9",
   "metadata": {
    "scrolled": true
   },
   "outputs": [
    {
     "name": "stdout",
     "output_type": "stream",
     "text": [
      "Finshed All Combinations\n"
     ]
    }
   ],
   "source": [
    "target = 'https://codeup.com/blogs/'\n",
    "df = crawl_url(target, kwargs = {'name': 'div', 'id':'main-content'})"
   ]
  },
  {
   "cell_type": "markdown",
   "id": "be335406",
   "metadata": {},
   "source": [
    "### 2. We will now be scraping text data from <a href=\"https://inshorts.com/\">inshorts</a>, a website that provides a brief overview of many different topics.\n",
    "\n",
    "#### Write a function that scrapes the news articles for the following topics:\n",
    "\n",
    "> * Business\n",
    "> * Sports\n",
    "> * Technology\n",
    "> * Entertainment\n",
    "\n",
    "#### The end product of this should be a function named get_news_articles that returns a list of dictionaries, where each dictionary has this shape:\n",
    "\n",
    "```python\n",
    "{\n",
    "    'title': 'The article title',\n",
    "    'content': 'The article content',\n",
    "    'category': 'business' # for example\n",
    "}\n",
    "```"
   ]
  },
  {
   "cell_type": "code",
   "execution_count": 16,
   "id": "4a756b56",
   "metadata": {
    "scrolled": false
   },
   "outputs": [
    {
     "name": "stdout",
     "output_type": "stream",
     "text": [
      "511\n"
     ]
    },
    {
     "data": {
      "text/html": [
       "<div>\n",
       "<style scoped>\n",
       "    .dataframe tbody tr th:only-of-type {\n",
       "        vertical-align: middle;\n",
       "    }\n",
       "\n",
       "    .dataframe tbody tr th {\n",
       "        vertical-align: top;\n",
       "    }\n",
       "\n",
       "    .dataframe thead th {\n",
       "        text-align: right;\n",
       "    }\n",
       "</style>\n",
       "<table border=\"1\" class=\"dataframe\">\n",
       "  <thead>\n",
       "    <tr style=\"text-align: right;\">\n",
       "      <th></th>\n",
       "      <th>title</th>\n",
       "      <th>content</th>\n",
       "      <th>parsed</th>\n",
       "      <th>news_articles</th>\n",
       "      <th>author</th>\n",
       "      <th>date</th>\n",
       "      <th>category</th>\n",
       "    </tr>\n",
       "    <tr>\n",
       "      <th>url</th>\n",
       "      <th></th>\n",
       "      <th></th>\n",
       "      <th></th>\n",
       "      <th></th>\n",
       "      <th></th>\n",
       "      <th></th>\n",
       "      <th></th>\n",
       "    </tr>\n",
       "  </thead>\n",
       "  <tbody>\n",
       "    <tr>\n",
       "      <th>https://inshorts.com/en/news/airstrike-hits-capital-of-ethiopias-tigray-3-killed-report-1635433206925</th>\n",
       "      <td>Airstrike hits capital of Ethiopia's Tigray; 3...</td>\n",
       "      <td>NaN</td>\n",
       "      <td>True</td>\n",
       "      <td>An Ethiopian airstrike reportedly hit Mekelle,...</td>\n",
       "      <td>Dharini MudgalDharini Mudgal</td>\n",
       "      <td>28 Oct</td>\n",
       "      <td>World News</td>\n",
       "    </tr>\n",
       "    <tr>\n",
       "      <th>https://inshorts.com/en/read</th>\n",
       "      <td>Breaking News Headlines: Read All News Updates...</td>\n",
       "      <td>NaN</td>\n",
       "      <td>True</td>\n",
       "      <td>Facebook on Thursday announced it's changing t...</td>\n",
       "      <td>Pragya SwastikPragya SwastikShalini OjhaShalin...</td>\n",
       "      <td>29 Oct28 Oct28 Oct28 Oct28 Oct28 Oct28 Oct28 O...</td>\n",
       "      <td>Inshorts</td>\n",
       "    </tr>\n",
       "    <tr>\n",
       "      <th>https://inshorts.com/en/read/startup</th>\n",
       "      <td>StartUp News: Latest Entrepreneurship News in ...</td>\n",
       "      <td>NaN</td>\n",
       "      <td>True</td>\n",
       "      <td>SpaceX's Crew Dragon spaceship faced a urine l...</td>\n",
       "      <td>Ankush VermaAnkush VermaKiran KhatriKiran Khat...</td>\n",
       "      <td>28 Oct28 Oct27 Oct28 Oct28 Oct28 Oct27 Oct28 O...</td>\n",
       "      <td>StartUp News: Latest Entrepreneurship News in ...</td>\n",
       "    </tr>\n",
       "    <tr>\n",
       "      <th>https://inshorts.com/en/read/national</th>\n",
       "      <td>Breaking News Headlines: Read All News Updates...</td>\n",
       "      <td>NaN</td>\n",
       "      <td>True</td>\n",
       "      <td>Two students riding a scooter in Punjab's Ludh...</td>\n",
       "      <td>Shalini OjhaShalini OjhaShalini OjhaShalini Oj...</td>\n",
       "      <td>28 Oct28 Oct28 Oct28 Oct28 Oct28 Oct28 Oct28 O...</td>\n",
       "      <td>Inshorts</td>\n",
       "    </tr>\n",
       "    <tr>\n",
       "      <th>https://inshorts.com/en/read/politics</th>\n",
       "      <td>Political News: Government Politics News in En...</td>\n",
       "      <td>NaN</td>\n",
       "      <td>True</td>\n",
       "      <td>Former Punjab CM Captain Amarinder Singh on We...</td>\n",
       "      <td>Shalini OjhaShalini OjhaAtul MishraAtul Mishra...</td>\n",
       "      <td>27 Oct27 Oct28 Oct28 Oct27 Oct26 Oct27 Oct27 O...</td>\n",
       "      <td>Political News: Government Politics News in En...</td>\n",
       "    </tr>\n",
       "  </tbody>\n",
       "</table>\n",
       "</div>"
      ],
      "text/plain": [
       "                                                                                                title  \\\n",
       "url                                                                                                     \n",
       "https://inshorts.com/en/news/airstrike-hits-cap...  Airstrike hits capital of Ethiopia's Tigray; 3...   \n",
       "https://inshorts.com/en/read                        Breaking News Headlines: Read All News Updates...   \n",
       "https://inshorts.com/en/read/startup                StartUp News: Latest Entrepreneurship News in ...   \n",
       "https://inshorts.com/en/read/national               Breaking News Headlines: Read All News Updates...   \n",
       "https://inshorts.com/en/read/politics               Political News: Government Politics News in En...   \n",
       "\n",
       "                                                   content  parsed  \\\n",
       "url                                                                  \n",
       "https://inshorts.com/en/news/airstrike-hits-cap...     NaN    True   \n",
       "https://inshorts.com/en/read                           NaN    True   \n",
       "https://inshorts.com/en/read/startup                   NaN    True   \n",
       "https://inshorts.com/en/read/national                  NaN    True   \n",
       "https://inshorts.com/en/read/politics                  NaN    True   \n",
       "\n",
       "                                                                                        news_articles  \\\n",
       "url                                                                                                     \n",
       "https://inshorts.com/en/news/airstrike-hits-cap...  An Ethiopian airstrike reportedly hit Mekelle,...   \n",
       "https://inshorts.com/en/read                        Facebook on Thursday announced it's changing t...   \n",
       "https://inshorts.com/en/read/startup                SpaceX's Crew Dragon spaceship faced a urine l...   \n",
       "https://inshorts.com/en/read/national               Two students riding a scooter in Punjab's Ludh...   \n",
       "https://inshorts.com/en/read/politics               Former Punjab CM Captain Amarinder Singh on We...   \n",
       "\n",
       "                                                                                               author  \\\n",
       "url                                                                                                     \n",
       "https://inshorts.com/en/news/airstrike-hits-cap...                       Dharini MudgalDharini Mudgal   \n",
       "https://inshorts.com/en/read                        Pragya SwastikPragya SwastikShalini OjhaShalin...   \n",
       "https://inshorts.com/en/read/startup                Ankush VermaAnkush VermaKiran KhatriKiran Khat...   \n",
       "https://inshorts.com/en/read/national               Shalini OjhaShalini OjhaShalini OjhaShalini Oj...   \n",
       "https://inshorts.com/en/read/politics               Shalini OjhaShalini OjhaAtul MishraAtul Mishra...   \n",
       "\n",
       "                                                                                                 date  \\\n",
       "url                                                                                                     \n",
       "https://inshorts.com/en/news/airstrike-hits-cap...                                             28 Oct   \n",
       "https://inshorts.com/en/read                        29 Oct28 Oct28 Oct28 Oct28 Oct28 Oct28 Oct28 O...   \n",
       "https://inshorts.com/en/read/startup                28 Oct28 Oct27 Oct28 Oct28 Oct28 Oct27 Oct28 O...   \n",
       "https://inshorts.com/en/read/national               28 Oct28 Oct28 Oct28 Oct28 Oct28 Oct28 Oct28 O...   \n",
       "https://inshorts.com/en/read/politics               27 Oct27 Oct28 Oct28 Oct27 Oct26 Oct27 Oct27 O...   \n",
       "\n",
       "                                                                                             category  \n",
       "url                                                                                                    \n",
       "https://inshorts.com/en/news/airstrike-hits-cap...                                        World News   \n",
       "https://inshorts.com/en/read                                                                 Inshorts  \n",
       "https://inshorts.com/en/read/startup                StartUp News: Latest Entrepreneurship News in ...  \n",
       "https://inshorts.com/en/read/national                                                        Inshorts  \n",
       "https://inshorts.com/en/read/politics               Political News: Government Politics News in En...  "
      ]
     },
     "execution_count": 16,
     "metadata": {},
     "output_type": "execute_result"
    }
   ],
   "source": [
    "df = get_news_articles()\n",
    "df.head()"
   ]
  }
 ],
 "metadata": {
  "kernelspec": {
   "display_name": "Python 3",
   "language": "python",
   "name": "python3"
  },
  "language_info": {
   "codemirror_mode": {
    "name": "ipython",
    "version": 3
   },
   "file_extension": ".py",
   "mimetype": "text/x-python",
   "name": "python",
   "nbconvert_exporter": "python",
   "pygments_lexer": "ipython3",
   "version": "3.8.8"
  }
 },
 "nbformat": 4,
 "nbformat_minor": 5
}
