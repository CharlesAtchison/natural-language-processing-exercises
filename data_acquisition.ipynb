{
 "cells": [
  {
   "cell_type": "markdown",
   "id": "1f929ee5",
   "metadata": {},
   "source": [
    "# Data Acquisition"
   ]
  },
  {
   "cell_type": "code",
   "execution_count": 1,
   "id": "b413c298",
   "metadata": {},
   "outputs": [],
   "source": [
    "from requests import get\n",
    "from bs4 import BeautifulSoup\n",
    "import pandas as pd\n",
    "import os, re, csv\n",
    "from acquire import *"
   ]
  },
  {
   "cell_type": "markdown",
   "id": "9b6bbadb",
   "metadata": {},
   "source": [
    "## Codeup Blog Articles\n",
    "\n",
    "1. Scrape the article text from the following pages:\n",
    "\n",
    "> - https://codeup.com/codeups-data-science-career-accelerator-is-here/\n",
    "> - https://codeup.com/data-science-myths/\n",
    "> - https://codeup.com/data-science-vs-data-analytics-whats-the-difference/\n",
    "> - https://codeup.com/10-tips-to-crush-it-at-the-sa-tech-job-fair/\n",
    "> - https://codeup.com/competitor-bootcamps-are-closing-is-the-model-in-danger/\n",
    "\n",
    "Encapsulate your work in a function named `get_blog_articles` that will return a list of dictionaries, with each dictionary representing one article. The shape of each dictionary should look like this:\n",
    "\n",
    "``` python\n",
    "{\n",
    "    'title': 'the title of the article',\n",
    "    'content': 'the full text content of the article'\n",
    "}\n",
    "```"
   ]
  },
  {
   "cell_type": "code",
   "execution_count": 2,
   "id": "d4c52af8",
   "metadata": {
    "scrolled": false
   },
   "outputs": [
    {
     "data": {
      "text/plain": [
       "[{'url': 'https://codeup.com/codeups-data-science-career-accelerator-is-here/',\n",
       "  'title': 'Page not found - Codeup',\n",
       "  'content': 'Oops!(210) 802–7289Why Codeup? Financial Aid Options Student Stories Employers Refund PolicyFAQsCareersMedia KitFull Stack Web Development Data Science Cyber Cloud Systems Engineering Free Networking Course© 2013-2021 Copyright. Privacy Policy  |  Complaint Policy  |  Inclusion | Accessibility | Sitemap',\n",
       "  'phone_numbers': ['2108027289'],\n",
       "  'date': [],\n",
       "  'author': [],\n",
       "  'copyright': ['2013-2021']},\n",
       " {'url': 'https://codeup.com/data-science-myths/',\n",
       "  'title': 'Page not found - Codeup',\n",
       "  'content': 'Oops!(210) 802–7289Why Codeup? Financial Aid Options Student Stories Employers Refund PolicyFAQsCareersMedia KitFull Stack Web Development Data Science Cyber Cloud Systems Engineering Free Networking Course© 2013-2021 Copyright. Privacy Policy  |  Complaint Policy  |  Inclusion | Accessibility | Sitemap',\n",
       "  'phone_numbers': ['2108027289'],\n",
       "  'date': [],\n",
       "  'author': [],\n",
       "  'copyright': ['2013-2021']},\n",
       " {'url': 'https://codeup.com/data-science-vs-data-analytics-whats-the-difference/',\n",
       "  'title': 'Data Science VS Data Analytics: What’s The Difference? - Codeup',\n",
       "  'content': 'Oct 17, 2018 | Data ScienceBy Dimitri AntoniouA week ago, Codeup launched our immersive Data Science career accelerator! With our first-class kicking off in February and only 25 seats available, we’ve been answering a lot of questions from prospective students. One, in particular, has come up so many times we decided to dedicate a blog post to it. What is the difference between data science and data analytics?First, let’s define some of our terms! Take a look at this blog to understand what Data Science is. In short, it is a method of turning raw data into action, leading to the desired outcome. Big Data refers to data sets that are large and complex, usually exceeding the capacity of computers and normal processing power to deal with. Machine Learning is the process of ‘learning’ underlying patterns of data in order to automate the extraction of intelligence from that data.\\xa0\\xa0Now, let’s look at the data pipeline that data scientists work through to reach the actionable insights and outcomes we mentioned:Data professionals work at different stages of the spectrum to move data through the pipeline. On the left, Big Data Engineers specialize in collecting, storing, and processing data, getting it from Data to Information. In the middle, analysts work to understand and convert that information to knowledge. Lastly, a Machine Learning Engineer utilizes machine learning algorithms to turn intelligence into action by building automations, visualizations, recommendations, and predictions.Data Scientists span multiple stages of this pipeline, from information to action. They will spend about 70% of their time wrangling data in the information stage. They will conduct a statistical analysis to derive knowledge. Lastly, they predict future events and build automations using machine learning.For those technical folk out there, data science is to data engineering or machine learning engineering as full-stack development is to front-end or back-end development. For the non-technical folk, data science is the umbrella term that houses data analytics, machine learning, and other data professions.So what’s the biggest difference between a data analyst and a data scientist? Data scientists utilize computer programming and machine learning in addition to mathematics and statistics. Still have questions? Reach out to us.\\xa0Wondering which of Codeup’s programs is right for you? We’ve got you covered. And of course, if data science gets you excited, get started with us today!Submit your email address to gain access to more information about our programs, financial aid, and benefits. We may even send you some free swag!(210) 802–7289Why Codeup? Financial Aid Options Student Stories Employers Refund PolicyFAQsCareersMedia KitFull Stack Web Development Data Science Cyber Cloud Systems Engineering Free Networking Course© 2013-2021 Copyright. Privacy Policy  |  Complaint Policy  |  Inclusion | Accessibility | Sitemap',\n",
       "  'phone_numbers': ['2108027289'],\n",
       "  'date': ['Oct172018'],\n",
       "  'author': [('Dimitri', 'AntoniouA')],\n",
       "  'copyright': ['2013-2021']},\n",
       " {'url': 'https://codeup.com/10-tips-to-crush-it-at-the-sa-tech-job-fair/',\n",
       "  'title': 'Page not found - Codeup',\n",
       "  'content': 'Oops!(210) 802–7289Why Codeup? Financial Aid Options Student Stories Employers Refund PolicyFAQsCareersMedia KitFull Stack Web Development Data Science Cyber Cloud Systems Engineering Free Networking Course© 2013-2021 Copyright. Privacy Policy  |  Complaint Policy  |  Inclusion | Accessibility | Sitemap',\n",
       "  'phone_numbers': ['2108027289'],\n",
       "  'date': [],\n",
       "  'author': [],\n",
       "  'copyright': ['2013-2021']},\n",
       " {'url': 'https://codeup.com/competitor-bootcamps-are-closing-is-the-model-in-danger/',\n",
       "  'title': 'Page not found - Codeup',\n",
       "  'content': 'Oops!(210) 802–7289Why Codeup? Financial Aid Options Student Stories Employers Refund PolicyFAQsCareersMedia KitFull Stack Web Development Data Science Cyber Cloud Systems Engineering Free Networking Course© 2013-2021 Copyright. Privacy Policy  |  Complaint Policy  |  Inclusion | Accessibility | Sitemap',\n",
       "  'phone_numbers': ['2108027289'],\n",
       "  'date': [],\n",
       "  'author': [],\n",
       "  'copyright': ['2013-2021']}]"
      ]
     },
     "execution_count": 2,
     "metadata": {},
     "output_type": "execute_result"
    }
   ],
   "source": [
    "urls = [\n",
    "    'https://codeup.com/codeups-data-science-career-accelerator-is-here/',\n",
    "    'https://codeup.com/data-science-myths/',\n",
    "    'https://codeup.com/data-science-vs-data-analytics-whats-the-difference/',\n",
    "    'https://codeup.com/10-tips-to-crush-it-at-the-sa-tech-job-fair/',\n",
    "    'https://codeup.com/competitor-bootcamps-are-closing-is-the-model-in-danger/'\n",
    "]\n",
    "headers = {\n",
    "    'User-Agent': 'Codeup Data Science'\n",
    "}\n",
    "        \n",
    "articles = list()\n",
    "for url in urls:\n",
    "    articles.append(get_blog_article(url))\n",
    "\n",
    "articles"
   ]
  },
  {
   "cell_type": "code",
   "execution_count": 3,
   "id": "1966f279",
   "metadata": {},
   "outputs": [],
   "source": [
    "def fetch_all_urls(target: str)->list:\n",
    "    '''Pass a target url to crawl to get all valid urls from the target, will return a pandas \n",
    "    DataFrame must pass a valid URL as target\n",
    "    '''\n",
    "    \n",
    "    def add_valid_urls(parse_url, valid_urls, invalid_urls, done, base):\n",
    "        '''Builds out a list of valid_urls, invalid_urls and flags if is done.\n",
    "        '''\n",
    "        headers = {'User-Agent': 'Codeup Data Science'}\n",
    "\n",
    "        # What url is being parsed\n",
    "        print(f'Parsing {parse_url}')\n",
    "\n",
    "        # Pull the base url out\n",
    "        response = get(parse_url, headers=headers)\n",
    "        soup = BeautifulSoup(response.text)\n",
    "\n",
    "        # Fetches all anchors from page\n",
    "        anchors = soup.find_all('a')\n",
    "\n",
    "        # Pulls all hyperlinks from the anchors\n",
    "        regex = r'''<a\\s+(?:[^>]*?\\s+)?href=\"(.*?)\"'''\n",
    "        # checks if the urls have http in them or not and concats with base if not to test\n",
    "        unchecked_urls = [base+url if 'http' not in url else url for url in re.findall(regex, str(anchors))]\n",
    "\n",
    "        urls = list()\n",
    "\n",
    "        # Check through urls to see what ones are not already checked\n",
    "        for url in unchecked_urls:\n",
    "            # Make string to check\n",
    "            url = str(url)\n",
    "            # Checks if url is in valids or invalid urls, then ensure's that 'codeup'\n",
    "            # is within the url and ensures that it isn't already in the checked urls list\n",
    "            if url in valid_urls or url in invalid_urls \\\n",
    "                or 'codeup' not in url or url in urls:\n",
    "                pass\n",
    "            else:\n",
    "                # Add to urls to test\n",
    "                urls.append(url)\n",
    "\n",
    "        # If there are not any more url's to check, make done flag true\n",
    "        if len(urls) == 0:\n",
    "            done = True\n",
    "            return valid_urls, invalid_urls, done\n",
    "\n",
    "        # Iterates through all the new urls and checks to see if they are valid\n",
    "        for url in urls:\n",
    "            url = str(url)\n",
    "            try:\n",
    "                print('Testing', url)\n",
    "                # Test to see if response\n",
    "                response = get(url, headers=headers)\n",
    "\n",
    "                # Check response codes\n",
    "                code = response.status_code\n",
    "\n",
    "                # Enusre is valid and that url is not already added\n",
    "                if code == 200:\n",
    "                    valid_urls.append(url)\n",
    "\n",
    "            except Exception as e:\n",
    "                # Add to invalid_urls\n",
    "                invalid_urls.append(url)\n",
    "\n",
    "        return valid_urls, invalid_urls, False\n",
    "    \n",
    "    # Set the valid urls to target to start there\n",
    "    valid_urls = [target]\n",
    "    invalid_urls = []\n",
    "    tried = list()\n",
    "    done = False\n",
    "    base = re.match(r'^.*(?:com|org|gov|net|us|eu|tv|me|.co)', valid_urls[0])[0]\n",
    "    # extract only the alphanum\n",
    "    filename = re.sub(r'[^a-zA-Z0-9]', '', base)+'_valid_urls.csv'\n",
    "    if os.path.exists(filename):\n",
    "        return pd.read_csv(filename, index_col=[0])\n",
    "    while True:\n",
    "        for url in valid_urls:\n",
    "            if url not in tried:\n",
    "                print(f'Trying {url}')\n",
    "                tried.append(url)\n",
    "                valid_urls, invalid_urls, done = add_valid_urls(url, valid_urls, invalid_urls, done, base)\n",
    "            if done:\n",
    "                break\n",
    "        if done:\n",
    "            break\n",
    "    result = pd.DataFrame([{'http':url} for url in valid_urls])\n",
    "    result.to_csv(filename)\n",
    "    return result"
   ]
  },
  {
   "cell_type": "markdown",
   "id": "35c4f693",
   "metadata": {},
   "source": [
    "## Bonus Scrape all Codeup Blogs"
   ]
  },
  {
   "cell_type": "code",
   "execution_count": 11,
   "id": "759114b4",
   "metadata": {},
   "outputs": [
    {
     "data": {
      "text/plain": [
       "array([\"['2108027289']\", '[]'], dtype=object)"
      ]
     },
     "execution_count": 11,
     "metadata": {},
     "output_type": "execute_result"
    }
   ],
   "source": [
    "codeup_blog_df = get_all_blog_articles('https://codeup.com/blog/')\n",
    "codeup_blog_df.head()"
   ]
  }
 ],
 "metadata": {
  "kernelspec": {
   "display_name": "Python 3",
   "language": "python",
   "name": "python3"
  },
  "language_info": {
   "codemirror_mode": {
    "name": "ipython",
    "version": 3
   },
   "file_extension": ".py",
   "mimetype": "text/x-python",
   "name": "python",
   "nbconvert_exporter": "python",
   "pygments_lexer": "ipython3",
   "version": "3.8.8"
  }
 },
 "nbformat": 4,
 "nbformat_minor": 5
}
