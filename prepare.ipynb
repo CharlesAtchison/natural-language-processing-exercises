{
 "cells": [
  {
   "cell_type": "code",
   "execution_count": 1,
   "id": "dd567d8a",
   "metadata": {},
   "outputs": [],
   "source": [
    "import unicodedata\n",
    "import re\n",
    "import json\n",
    "\n",
    "import nltk\n",
    "from nltk.tokenize.toktok import ToktokTokenizer\n",
    "from nltk.corpus import stopwords\n",
    "\n",
    "import pandas as pd\n",
    "\n",
    "from acquire import * "
   ]
  },
  {
   "cell_type": "markdown",
   "id": "b90bc36d",
   "metadata": {},
   "source": [
    "### 1. Define a function named basic_clean. It should take in a string and apply some basic text cleaning to it:\n",
    "\n",
    "> * Lowercase everything\n",
    "> * Normalize unicode characters\n",
    "> * Replace anything that is not a letter, number, whitespace or a single quote.\n"
   ]
  },
  {
   "cell_type": "code",
   "execution_count": 2,
   "id": "fd3ca338",
   "metadata": {},
   "outputs": [],
   "source": [
    "test = 'real words here'"
   ]
  },
  {
   "cell_type": "code",
   "execution_count": 3,
   "id": "7c6f9359",
   "metadata": {},
   "outputs": [],
   "source": [
    "def basic_clean(s: str):\n",
    "    '''Takes in string and converts everything to lowercase\n",
    "    normalizes unicode characters and replaces everything that's\n",
    "    not a number letter or whitespace with a single quote.\n",
    "    '''\n",
    "    return  re.sub(r\"[^a-z0-9'\\s]\",\n",
    "                   '', unicodedata.normalize('NFKD', s.lower()\n",
    "                                  ).encode('ascii', 'ignore'\n",
    "                                          ).decode('utf-8', 'ignore'))\n",
    "\n",
    "    "
   ]
  },
  {
   "cell_type": "markdown",
   "id": "791da858",
   "metadata": {},
   "source": [
    "### 2. Define a function named `tokenize`. It should take in a string and tokenize all the words in the string."
   ]
  },
  {
   "cell_type": "code",
   "execution_count": 4,
   "id": "9a6f5524",
   "metadata": {},
   "outputs": [
    {
     "data": {
      "text/plain": [
       "['real', 'words', 'here']"
      ]
     },
     "execution_count": 4,
     "metadata": {},
     "output_type": "execute_result"
    }
   ],
   "source": [
    "def tokenize(s: str):\n",
    "    '''Tokenizes all words within the string\n",
    "    '''\n",
    "    tokenizer = nltk.tokenize.ToktokTokenizer()\n",
    "\n",
    "    return tokenizer.tokenize(s)\n",
    "\n",
    "tokenize(basic_clean(test))"
   ]
  },
  {
   "cell_type": "markdown",
   "id": "4802b3c8",
   "metadata": {},
   "source": [
    "### 3. Define a function named `stem`. It should accept some text and return the text after applying stemming to all the words."
   ]
  },
  {
   "cell_type": "code",
   "execution_count": 5,
   "id": "c73064da",
   "metadata": {},
   "outputs": [
    {
     "data": {
      "text/plain": [
       "'real word here'"
      ]
     },
     "execution_count": 5,
     "metadata": {},
     "output_type": "execute_result"
    }
   ],
   "source": [
    "def stem(s: str):\n",
    "    '''Accepts string and returns the string after they have been stemmed\n",
    "    '''\n",
    "    # Create stemmer\n",
    "    ps = nltk.porter.PorterStemmer()\n",
    "\n",
    "    return ' '.join([ps.stem(word) for word in s.split()])\n",
    "\n",
    "test = stem(' '.join(tokenize(basic_clean(test))))\n",
    "test"
   ]
  },
  {
   "cell_type": "markdown",
   "id": "ca3e1cbe",
   "metadata": {},
   "source": [
    "### 4. Define a function named `lemmatize`. It should accept some text and return the text after applying lemmatization to each word."
   ]
  },
  {
   "cell_type": "code",
   "execution_count": 6,
   "id": "e613072d",
   "metadata": {},
   "outputs": [
    {
     "data": {
      "text/plain": [
       "['real', 'word', 'here']"
      ]
     },
     "execution_count": 6,
     "metadata": {},
     "output_type": "execute_result"
    }
   ],
   "source": [
    "def lemmatize(s: str):\n",
    "    '''Takes a string and returns a lemmatization of that string\n",
    "    '''\n",
    "    # Create the Word Net Lemmatizer\n",
    "    wnl = nltk.stem.WordNetLemmatizer()\n",
    "    \n",
    "    \n",
    "    return [wnl.lemmatize(word) for word in s.split()]\n",
    "    \n",
    "lemmatize(test)"
   ]
  },
  {
   "cell_type": "markdown",
   "id": "dd97a348",
   "metadata": {},
   "source": [
    "### 5. Define a function named `remove_stopwords`. It should accept some text and return the text after removing all the stopwords.\n",
    "\n",
    "### This function should define two optional parameters, extra_words and exclude_words. These parameters should define any additional stop words to include, and any words that we don't want to remove."
   ]
  },
  {
   "cell_type": "code",
   "execution_count": 7,
   "id": "24b0e816",
   "metadata": {},
   "outputs": [
    {
     "data": {
      "text/plain": [
       "['real', 'word']"
      ]
     },
     "execution_count": 7,
     "metadata": {},
     "output_type": "execute_result"
    }
   ],
   "source": [
    "def remove_stopwords(s: str, extra_words=list(), exclude_words=list()):\n",
    "    '''Takes a string and returns a string with the stopwords removed\n",
    "    also adds the desired extrawords and excluded words\n",
    "    '''\n",
    "    # Imports the english stopwords\n",
    "    stopword_list = stopwords.words('english')\n",
    "\n",
    "    # What words you'd like to include\n",
    "    stopword_list.extend(extra_words)\n",
    "    \n",
    "    # Iterate though each desired exclusionary words\n",
    "    for word in exclude_words:\n",
    "        # remove word from stoplist\n",
    "        stopword_list.remove(word)\n",
    "        \n",
    "    # Remove words from the string\n",
    "    words = s.split()\n",
    "    # Add all the words that are NOT in the stoplist \n",
    "    return [word for word in words if word not in stopword_list]\n",
    "    \n",
    "remove_stopwords(test)"
   ]
  },
  {
   "cell_type": "markdown",
   "id": "619cef76",
   "metadata": {},
   "source": [
    "### 6. Use your data from the acquire to produce a dataframe of the news articles. Name the dataframe `news_df`."
   ]
  },
  {
   "cell_type": "code",
   "execution_count": 8,
   "id": "a298f9d4",
   "metadata": {
    "scrolled": true
   },
   "outputs": [
    {
     "data": {
      "text/html": [
       "<div>\n",
       "<style scoped>\n",
       "    .dataframe tbody tr th:only-of-type {\n",
       "        vertical-align: middle;\n",
       "    }\n",
       "\n",
       "    .dataframe tbody tr th {\n",
       "        vertical-align: top;\n",
       "    }\n",
       "\n",
       "    .dataframe thead th {\n",
       "        text-align: right;\n",
       "    }\n",
       "</style>\n",
       "<table border=\"1\" class=\"dataframe\">\n",
       "  <thead>\n",
       "    <tr style=\"text-align: right;\">\n",
       "      <th></th>\n",
       "      <th>parsed</th>\n",
       "      <th>news_articles</th>\n",
       "      <th>author</th>\n",
       "      <th>date</th>\n",
       "    </tr>\n",
       "    <tr>\n",
       "      <th>url</th>\n",
       "      <th></th>\n",
       "      <th></th>\n",
       "      <th></th>\n",
       "      <th></th>\n",
       "    </tr>\n",
       "  </thead>\n",
       "  <tbody>\n",
       "    <tr>\n",
       "      <th>https://inshorts.com/en/news/airstrike-hits-capital-of-ethiopias-tigray-3-killed-report-1635433206925</th>\n",
       "      <td>True</td>\n",
       "      <td>An Ethiopian airstrike reportedly hit Mekelle,...</td>\n",
       "      <td>Dharini MudgalDharini Mudgal</td>\n",
       "      <td>28 Oct</td>\n",
       "    </tr>\n",
       "    <tr>\n",
       "      <th>https://inshorts.com/en/read/technology</th>\n",
       "      <td>True</td>\n",
       "      <td>Facebook on Thursday announced it's changing t...</td>\n",
       "      <td>Pragya SwastikPragya SwastikAnkush VermaAnkush...</td>\n",
       "      <td>29 Oct28 Oct29 Oct28 Oct28 Oct29 Oct28 Oct29 O...</td>\n",
       "    </tr>\n",
       "    <tr>\n",
       "      <th>https://inshorts.com/en/read/startup</th>\n",
       "      <td>True</td>\n",
       "      <td>The combined net worth of the world's two rich...</td>\n",
       "      <td>Kiran KhatriKiran KhatriAnkush VermaAnkush Ver...</td>\n",
       "      <td>28 Oct28 Oct27 Oct27 Oct27 Oct28 Oct28 Oct27 O...</td>\n",
       "    </tr>\n",
       "    <tr>\n",
       "      <th>https://inshorts.com/prev/en/news/airstrike-hits-capital-of-ethiopias-tigray-3-killed-report-1635433206925</th>\n",
       "      <td>True</td>\n",
       "      <td>After Aryan Khan was granted bail in the Mumba...</td>\n",
       "      <td>Kriti KambiriKriti Kambiri</td>\n",
       "      <td>28 Oct</td>\n",
       "    </tr>\n",
       "    <tr>\n",
       "      <th>https://inshorts.com/en/read/science</th>\n",
       "      <td>True</td>\n",
       "      <td>'Star Trek' actor William Shatner, who became ...</td>\n",
       "      <td>Daisy MowkeDaisy MowkeAnkush VermaAnkush Verma...</td>\n",
       "      <td>16 Oct23 Oct28 Oct20 Oct21 Oct21 Oct29 Oct21 O...</td>\n",
       "    </tr>\n",
       "  </tbody>\n",
       "</table>\n",
       "</div>"
      ],
      "text/plain": [
       "                                                    parsed  \\\n",
       "url                                                          \n",
       "https://inshorts.com/en/news/airstrike-hits-cap...    True   \n",
       "https://inshorts.com/en/read/technology               True   \n",
       "https://inshorts.com/en/read/startup                  True   \n",
       "https://inshorts.com/prev/en/news/airstrike-hit...    True   \n",
       "https://inshorts.com/en/read/science                  True   \n",
       "\n",
       "                                                                                        news_articles  \\\n",
       "url                                                                                                     \n",
       "https://inshorts.com/en/news/airstrike-hits-cap...  An Ethiopian airstrike reportedly hit Mekelle,...   \n",
       "https://inshorts.com/en/read/technology             Facebook on Thursday announced it's changing t...   \n",
       "https://inshorts.com/en/read/startup                The combined net worth of the world's two rich...   \n",
       "https://inshorts.com/prev/en/news/airstrike-hit...  After Aryan Khan was granted bail in the Mumba...   \n",
       "https://inshorts.com/en/read/science                'Star Trek' actor William Shatner, who became ...   \n",
       "\n",
       "                                                                                               author  \\\n",
       "url                                                                                                     \n",
       "https://inshorts.com/en/news/airstrike-hits-cap...                       Dharini MudgalDharini Mudgal   \n",
       "https://inshorts.com/en/read/technology             Pragya SwastikPragya SwastikAnkush VermaAnkush...   \n",
       "https://inshorts.com/en/read/startup                Kiran KhatriKiran KhatriAnkush VermaAnkush Ver...   \n",
       "https://inshorts.com/prev/en/news/airstrike-hit...                         Kriti KambiriKriti Kambiri   \n",
       "https://inshorts.com/en/read/science                Daisy MowkeDaisy MowkeAnkush VermaAnkush Verma...   \n",
       "\n",
       "                                                                                                 date  \n",
       "url                                                                                                    \n",
       "https://inshorts.com/en/news/airstrike-hits-cap...                                             28 Oct  \n",
       "https://inshorts.com/en/read/technology             29 Oct28 Oct29 Oct28 Oct28 Oct29 Oct28 Oct29 O...  \n",
       "https://inshorts.com/en/read/startup                28 Oct28 Oct27 Oct27 Oct27 Oct28 Oct28 Oct27 O...  \n",
       "https://inshorts.com/prev/en/news/airstrike-hit...                                             28 Oct  \n",
       "https://inshorts.com/en/read/science                16 Oct23 Oct28 Oct20 Oct21 Oct21 Oct29 Oct21 O...  "
      ]
     },
     "execution_count": 8,
     "metadata": {},
     "output_type": "execute_result"
    }
   ],
   "source": [
    "# Fetch news article DataFrame\n",
    "news_df = get_news_articles()\n",
    "news_df.head()"
   ]
  },
  {
   "cell_type": "markdown",
   "id": "054ef9ae",
   "metadata": {},
   "source": [
    "### 7. Make another dataframe for the Codeup blog posts. Name the dataframe `codeup_df`."
   ]
  },
  {
   "cell_type": "code",
   "execution_count": 13,
   "id": "a4cf16a7",
   "metadata": {
    "scrolled": true
   },
   "outputs": [
    {
     "data": {
      "text/html": [
       "<div>\n",
       "<style scoped>\n",
       "    .dataframe tbody tr th:only-of-type {\n",
       "        vertical-align: middle;\n",
       "    }\n",
       "\n",
       "    .dataframe tbody tr th {\n",
       "        vertical-align: top;\n",
       "    }\n",
       "\n",
       "    .dataframe thead th {\n",
       "        text-align: right;\n",
       "    }\n",
       "</style>\n",
       "<table border=\"1\" class=\"dataframe\">\n",
       "  <thead>\n",
       "    <tr style=\"text-align: right;\">\n",
       "      <th></th>\n",
       "      <th>parsed</th>\n",
       "      <th>original</th>\n",
       "      <th>title</th>\n",
       "    </tr>\n",
       "    <tr>\n",
       "      <th>url</th>\n",
       "      <th></th>\n",
       "      <th></th>\n",
       "      <th></th>\n",
       "    </tr>\n",
       "  </thead>\n",
       "  <tbody>\n",
       "    <tr>\n",
       "      <th>https://codeup.com/blog/</th>\n",
       "      <td>True</td>\n",
       "      <td>Oct 28, 2021 | IT Training, Tips for Prospecti...</td>\n",
       "      <td>Blog - Codeup</td>\n",
       "    </tr>\n",
       "    <tr>\n",
       "      <th>https://codeup.com/codeup-news/codeup-acquires-rackspace-cloud-academy/</th>\n",
       "      <td>True</td>\n",
       "      <td>Apr 16, 2021 | Codeup NewsWe are thrilled to o...</td>\n",
       "      <td>Codeup Acquires Rackspace Cloud Academy! - Codeup</td>\n",
       "    </tr>\n",
       "    <tr>\n",
       "      <th>https://codeup.com/codeup-news/start-a-new-career-with-vet-tec/</th>\n",
       "      <td>True</td>\n",
       "      <td>Apr 5, 2021 | Codeup NewsAre you a veteran loo...</td>\n",
       "      <td>Start a New Career with VET TEC! - Codeup</td>\n",
       "    </tr>\n",
       "    <tr>\n",
       "      <th>https://codeup.com/blog/page/2/?et_blog</th>\n",
       "      <td>True</td>\n",
       "      <td>Oct 3, 2021 | Behind the BillboardsSep 16, 202...</td>\n",
       "      <td>Blog - Codeup</td>\n",
       "    </tr>\n",
       "    <tr>\n",
       "      <th>https://codeup.com/</th>\n",
       "      <td>True</td>\n",
       "      <td>Go from no experience to employed tech profess...</td>\n",
       "      <td>Best Tech Career Accelerator in Texas - Codeup</td>\n",
       "    </tr>\n",
       "  </tbody>\n",
       "</table>\n",
       "</div>"
      ],
      "text/plain": [
       "                                                    parsed  \\\n",
       "url                                                          \n",
       "https://codeup.com/blog/                              True   \n",
       "https://codeup.com/codeup-news/codeup-acquires-...    True   \n",
       "https://codeup.com/codeup-news/start-a-new-care...    True   \n",
       "https://codeup.com/blog/page/2/?et_blog               True   \n",
       "https://codeup.com/                                   True   \n",
       "\n",
       "                                                                                             original  \\\n",
       "url                                                                                                     \n",
       "https://codeup.com/blog/                            Oct 28, 2021 | IT Training, Tips for Prospecti...   \n",
       "https://codeup.com/codeup-news/codeup-acquires-...  Apr 16, 2021 | Codeup NewsWe are thrilled to o...   \n",
       "https://codeup.com/codeup-news/start-a-new-care...  Apr 5, 2021 | Codeup NewsAre you a veteran loo...   \n",
       "https://codeup.com/blog/page/2/?et_blog             Oct 3, 2021 | Behind the BillboardsSep 16, 202...   \n",
       "https://codeup.com/                                 Go from no experience to employed tech profess...   \n",
       "\n",
       "                                                                                                title  \n",
       "url                                                                                                    \n",
       "https://codeup.com/blog/                                                                Blog - Codeup  \n",
       "https://codeup.com/codeup-news/codeup-acquires-...  Codeup Acquires Rackspace Cloud Academy! - Codeup  \n",
       "https://codeup.com/codeup-news/start-a-new-care...          Start a New Career with VET TEC! - Codeup  \n",
       "https://codeup.com/blog/page/2/?et_blog                                                 Blog - Codeup  \n",
       "https://codeup.com/                                    Best Tech Career Accelerator in Texas - Codeup  "
      ]
     },
     "execution_count": 13,
     "metadata": {},
     "output_type": "execute_result"
    }
   ],
   "source": [
    "codeup_df = get_codeup_blogs()\n",
    "codeup_df.head()"
   ]
  }
 ],
 "metadata": {
  "kernelspec": {
   "display_name": "Python 3",
   "language": "python",
   "name": "python3"
  },
  "language_info": {
   "codemirror_mode": {
    "name": "ipython",
    "version": 3
   },
   "file_extension": ".py",
   "mimetype": "text/x-python",
   "name": "python",
   "nbconvert_exporter": "python",
   "pygments_lexer": "ipython3",
   "version": "3.8.8"
  }
 },
 "nbformat": 4,
 "nbformat_minor": 5
}
