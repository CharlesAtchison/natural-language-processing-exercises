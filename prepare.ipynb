{
 "cells": [
  {
   "cell_type": "code",
   "execution_count": 1,
   "id": "6dc92e84",
   "metadata": {},
   "outputs": [],
   "source": [
    "import unicodedata\n",
    "import re\n",
    "import json\n",
    "\n",
    "import nltk\n",
    "from nltk.tokenize.toktok import ToktokTokenizer\n",
    "from nltk.corpus import stopwords\n",
    "\n",
    "import pandas as pd\n",
    "\n",
    "from acquire import * "
   ]
  },
  {
   "cell_type": "markdown",
   "id": "a5147b59",
   "metadata": {},
   "source": [
    "### 1. Define a function named basic_clean. It should take in a string and apply some basic text cleaning to it:\n",
    "\n",
    "> * Lowercase everything\n",
    "> * Normalize unicode characters\n",
    "> * Replace anything that is not a letter, number, whitespace or a single quote.\n"
   ]
  },
  {
   "cell_type": "code",
   "execution_count": 2,
   "id": "2b933f84",
   "metadata": {},
   "outputs": [],
   "source": [
    "test = 'real words here'"
   ]
  },
  {
   "cell_type": "code",
   "execution_count": 3,
   "id": "ae04a12e",
   "metadata": {},
   "outputs": [],
   "source": [
    "def basic_clean(s: str):\n",
    "    '''Takes in string and converts everything to lowercase\n",
    "    normalizes unicode characters and replaces everything that's\n",
    "    not a number letter or whitespace with a single quote.\n",
    "    '''\n",
    "    return  re.sub(r\"[^a-z0-9'\\s]\",\n",
    "                   '', unicodedata.normalize('NFKD', s.lower()\n",
    "                                  ).encode('ascii', 'ignore'\n",
    "                                          ).decode('utf-8', 'ignore'))\n",
    "\n",
    "    "
   ]
  },
  {
   "cell_type": "markdown",
   "id": "ce825e21",
   "metadata": {},
   "source": [
    "### 2. Define a function named `tokenize`. It should take in a string and tokenize all the words in the string."
   ]
  },
  {
   "cell_type": "code",
   "execution_count": 4,
   "id": "5ffda4bb",
   "metadata": {},
   "outputs": [
    {
     "data": {
      "text/plain": [
       "['real', 'words', 'here']"
      ]
     },
     "execution_count": 4,
     "metadata": {},
     "output_type": "execute_result"
    }
   ],
   "source": [
    "def tokenize(s: str):\n",
    "    '''Tokenizes all words within the string\n",
    "    '''\n",
    "    tokenizer = nltk.tokenize.ToktokTokenizer()\n",
    "\n",
    "    return tokenizer.tokenize(s)\n",
    "\n",
    "tokenize(basic_clean(test))"
   ]
  },
  {
   "cell_type": "markdown",
   "id": "a2703e6e",
   "metadata": {},
   "source": [
    "### 3. Define a function named `stem`. It should accept some text and return the text after applying stemming to all the words."
   ]
  },
  {
   "cell_type": "code",
   "execution_count": 5,
   "id": "3e4b9fe6",
   "metadata": {},
   "outputs": [
    {
     "data": {
      "text/plain": [
       "'real word here'"
      ]
     },
     "execution_count": 5,
     "metadata": {},
     "output_type": "execute_result"
    }
   ],
   "source": [
    "def stem(s: str):\n",
    "    '''Accepts string and returns the string after they have been stemmed\n",
    "    '''\n",
    "    # Create stemmer\n",
    "    ps = nltk.porter.PorterStemmer()\n",
    "\n",
    "    return ' '.join([ps.stem(word) for word in s.split()])\n",
    "\n",
    "test = stem(' '.join(tokenize(basic_clean(test))))\n",
    "test"
   ]
  },
  {
   "cell_type": "markdown",
   "id": "731f38bb",
   "metadata": {},
   "source": [
    "### 4. Define a function named `lemmatize`. It should accept some text and return the text after applying lemmatization to each word."
   ]
  },
  {
   "cell_type": "code",
   "execution_count": 6,
   "id": "189ecda7",
   "metadata": {},
   "outputs": [
    {
     "data": {
      "text/plain": [
       "['real', 'word', 'here']"
      ]
     },
     "execution_count": 6,
     "metadata": {},
     "output_type": "execute_result"
    }
   ],
   "source": [
    "def lemmatize(s: str):\n",
    "    '''Takes a string and returns a lemmatization of that string\n",
    "    '''\n",
    "    # Create the Word Net Lemmatizer\n",
    "    wnl = nltk.stem.WordNetLemmatizer()\n",
    "    \n",
    "    \n",
    "    return [wnl.lemmatize(word) for word in s.split()]\n",
    "    \n",
    "lemmatize(test)"
   ]
  },
  {
   "cell_type": "markdown",
   "id": "d4dd52f4",
   "metadata": {},
   "source": [
    "### 5. Define a function named `remove_stopwords`. It should accept some text and return the text after removing all the stopwords.\n",
    "\n",
    "### This function should define two optional parameters, extra_words and exclude_words. These parameters should define any additional stop words to include, and any words that we don't want to remove."
   ]
  },
  {
   "cell_type": "code",
   "execution_count": 7,
   "id": "5b7c86b3",
   "metadata": {},
   "outputs": [
    {
     "data": {
      "text/plain": [
       "['real', 'word']"
      ]
     },
     "execution_count": 7,
     "metadata": {},
     "output_type": "execute_result"
    }
   ],
   "source": [
    "def remove_stopwords(s: str, extra_words=list(), exclude_words=list()):\n",
    "    '''Takes a string and returns a string with the stopwords removed\n",
    "    also adds the desired extrawords and excluded words\n",
    "    '''\n",
    "    # Imports the english stopwords\n",
    "    stopword_list = stopwords.words('english')\n",
    "\n",
    "    # What words you'd like to include\n",
    "    stopword_list.extend(extra_words)\n",
    "    \n",
    "    # Iterate though each desired exclusionary words\n",
    "    for word in exclude_words:\n",
    "        # remove word from stoplist\n",
    "        stopword_list.remove(word)\n",
    "        \n",
    "    # Remove words from the string\n",
    "    words = s.split()\n",
    "    # Add all the words that are NOT in the stoplist \n",
    "    return [word for word in words if word not in stopword_list]\n",
    "    \n",
    "remove_stopwords(test)"
   ]
  },
  {
   "cell_type": "markdown",
   "id": "5db0146a",
   "metadata": {},
   "source": [
    "### 6. Use your data from the acquire to produce a dataframe of the news articles. Name the dataframe `news_df`."
   ]
  },
  {
   "cell_type": "code",
   "execution_count": 8,
   "id": "8f88a552",
   "metadata": {},
   "outputs": [
    {
     "data": {
      "text/html": [
       "<div>\n",
       "<style scoped>\n",
       "    .dataframe tbody tr th:only-of-type {\n",
       "        vertical-align: middle;\n",
       "    }\n",
       "\n",
       "    .dataframe tbody tr th {\n",
       "        vertical-align: top;\n",
       "    }\n",
       "\n",
       "    .dataframe thead th {\n",
       "        text-align: right;\n",
       "    }\n",
       "</style>\n",
       "<table border=\"1\" class=\"dataframe\">\n",
       "  <thead>\n",
       "    <tr style=\"text-align: right;\">\n",
       "      <th></th>\n",
       "      <th>title</th>\n",
       "      <th>content</th>\n",
       "      <th>parsed</th>\n",
       "      <th>news_articles</th>\n",
       "      <th>author</th>\n",
       "      <th>date</th>\n",
       "      <th>category</th>\n",
       "    </tr>\n",
       "    <tr>\n",
       "      <th>url</th>\n",
       "      <th></th>\n",
       "      <th></th>\n",
       "      <th></th>\n",
       "      <th></th>\n",
       "      <th></th>\n",
       "      <th></th>\n",
       "      <th></th>\n",
       "    </tr>\n",
       "  </thead>\n",
       "  <tbody>\n",
       "    <tr>\n",
       "      <th>https://inshorts.com/en/news/airstrike-hits-capital-of-ethiopias-tigray-3-killed-report-1635433206925</th>\n",
       "      <td>Airstrike hits capital of Ethiopia's Tigray; 3...</td>\n",
       "      <td>NaN</td>\n",
       "      <td>True</td>\n",
       "      <td>An Ethiopian airstrike reportedly hit Mekelle,...</td>\n",
       "      <td>Dharini MudgalDharini Mudgal</td>\n",
       "      <td>28 Oct</td>\n",
       "      <td>World News</td>\n",
       "    </tr>\n",
       "    <tr>\n",
       "      <th>https://inshorts.com/en/read</th>\n",
       "      <td>Breaking News Headlines: Read All News Updates...</td>\n",
       "      <td>NaN</td>\n",
       "      <td>True</td>\n",
       "      <td>Facebook on Thursday announced it's changing t...</td>\n",
       "      <td>Pragya SwastikPragya SwastikShalini OjhaShalin...</td>\n",
       "      <td>29 Oct28 Oct28 Oct28 Oct28 Oct28 Oct28 Oct28 O...</td>\n",
       "      <td>Inshorts</td>\n",
       "    </tr>\n",
       "    <tr>\n",
       "      <th>https://inshorts.com/en/read/startup</th>\n",
       "      <td>StartUp News: Latest Entrepreneurship News in ...</td>\n",
       "      <td>NaN</td>\n",
       "      <td>True</td>\n",
       "      <td>SpaceX's Crew Dragon spaceship faced a urine l...</td>\n",
       "      <td>Ankush VermaAnkush VermaKiran KhatriKiran Khat...</td>\n",
       "      <td>28 Oct28 Oct27 Oct28 Oct28 Oct28 Oct27 Oct28 O...</td>\n",
       "      <td>StartUp News: Latest Entrepreneurship News in ...</td>\n",
       "    </tr>\n",
       "    <tr>\n",
       "      <th>https://inshorts.com/en/read/national</th>\n",
       "      <td>Breaking News Headlines: Read All News Updates...</td>\n",
       "      <td>NaN</td>\n",
       "      <td>True</td>\n",
       "      <td>Two students riding a scooter in Punjab's Ludh...</td>\n",
       "      <td>Shalini OjhaShalini OjhaShalini OjhaShalini Oj...</td>\n",
       "      <td>28 Oct28 Oct28 Oct28 Oct28 Oct28 Oct28 Oct28 O...</td>\n",
       "      <td>Inshorts</td>\n",
       "    </tr>\n",
       "    <tr>\n",
       "      <th>https://inshorts.com/en/read/politics</th>\n",
       "      <td>Political News: Government Politics News in En...</td>\n",
       "      <td>NaN</td>\n",
       "      <td>True</td>\n",
       "      <td>Former Punjab CM Captain Amarinder Singh on We...</td>\n",
       "      <td>Shalini OjhaShalini OjhaAtul MishraAtul Mishra...</td>\n",
       "      <td>27 Oct27 Oct28 Oct28 Oct27 Oct26 Oct27 Oct27 O...</td>\n",
       "      <td>Political News: Government Politics News in En...</td>\n",
       "    </tr>\n",
       "  </tbody>\n",
       "</table>\n",
       "</div>"
      ],
      "text/plain": [
       "                                                                                                title  \\\n",
       "url                                                                                                     \n",
       "https://inshorts.com/en/news/airstrike-hits-cap...  Airstrike hits capital of Ethiopia's Tigray; 3...   \n",
       "https://inshorts.com/en/read                        Breaking News Headlines: Read All News Updates...   \n",
       "https://inshorts.com/en/read/startup                StartUp News: Latest Entrepreneurship News in ...   \n",
       "https://inshorts.com/en/read/national               Breaking News Headlines: Read All News Updates...   \n",
       "https://inshorts.com/en/read/politics               Political News: Government Politics News in En...   \n",
       "\n",
       "                                                   content  parsed  \\\n",
       "url                                                                  \n",
       "https://inshorts.com/en/news/airstrike-hits-cap...     NaN    True   \n",
       "https://inshorts.com/en/read                           NaN    True   \n",
       "https://inshorts.com/en/read/startup                   NaN    True   \n",
       "https://inshorts.com/en/read/national                  NaN    True   \n",
       "https://inshorts.com/en/read/politics                  NaN    True   \n",
       "\n",
       "                                                                                        news_articles  \\\n",
       "url                                                                                                     \n",
       "https://inshorts.com/en/news/airstrike-hits-cap...  An Ethiopian airstrike reportedly hit Mekelle,...   \n",
       "https://inshorts.com/en/read                        Facebook on Thursday announced it's changing t...   \n",
       "https://inshorts.com/en/read/startup                SpaceX's Crew Dragon spaceship faced a urine l...   \n",
       "https://inshorts.com/en/read/national               Two students riding a scooter in Punjab's Ludh...   \n",
       "https://inshorts.com/en/read/politics               Former Punjab CM Captain Amarinder Singh on We...   \n",
       "\n",
       "                                                                                               author  \\\n",
       "url                                                                                                     \n",
       "https://inshorts.com/en/news/airstrike-hits-cap...                       Dharini MudgalDharini Mudgal   \n",
       "https://inshorts.com/en/read                        Pragya SwastikPragya SwastikShalini OjhaShalin...   \n",
       "https://inshorts.com/en/read/startup                Ankush VermaAnkush VermaKiran KhatriKiran Khat...   \n",
       "https://inshorts.com/en/read/national               Shalini OjhaShalini OjhaShalini OjhaShalini Oj...   \n",
       "https://inshorts.com/en/read/politics               Shalini OjhaShalini OjhaAtul MishraAtul Mishra...   \n",
       "\n",
       "                                                                                                 date  \\\n",
       "url                                                                                                     \n",
       "https://inshorts.com/en/news/airstrike-hits-cap...                                             28 Oct   \n",
       "https://inshorts.com/en/read                        29 Oct28 Oct28 Oct28 Oct28 Oct28 Oct28 Oct28 O...   \n",
       "https://inshorts.com/en/read/startup                28 Oct28 Oct27 Oct28 Oct28 Oct28 Oct27 Oct28 O...   \n",
       "https://inshorts.com/en/read/national               28 Oct28 Oct28 Oct28 Oct28 Oct28 Oct28 Oct28 O...   \n",
       "https://inshorts.com/en/read/politics               27 Oct27 Oct28 Oct28 Oct27 Oct26 Oct27 Oct27 O...   \n",
       "\n",
       "                                                                                             category  \n",
       "url                                                                                                    \n",
       "https://inshorts.com/en/news/airstrike-hits-cap...                                        World News   \n",
       "https://inshorts.com/en/read                                                                 Inshorts  \n",
       "https://inshorts.com/en/read/startup                StartUp News: Latest Entrepreneurship News in ...  \n",
       "https://inshorts.com/en/read/national                                                        Inshorts  \n",
       "https://inshorts.com/en/read/politics               Political News: Government Politics News in En...  "
      ]
     },
     "execution_count": 8,
     "metadata": {},
     "output_type": "execute_result"
    }
   ],
   "source": [
    "# Fetch news article DataFrame\n",
    "news_df = get_news_articles()\n",
    "news_df.head()"
   ]
  }
 ],
 "metadata": {
  "kernelspec": {
   "display_name": "Python 3",
   "language": "python",
   "name": "python3"
  },
  "language_info": {
   "codemirror_mode": {
    "name": "ipython",
    "version": 3
   },
   "file_extension": ".py",
   "mimetype": "text/x-python",
   "name": "python",
   "nbconvert_exporter": "python",
   "pygments_lexer": "ipython3",
   "version": "3.8.8"
  }
 },
 "nbformat": 4,
 "nbformat_minor": 5
}
