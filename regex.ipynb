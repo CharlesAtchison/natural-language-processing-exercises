{
 "cells": [
  {
   "cell_type": "markdown",
   "id": "910a1ccc",
   "metadata": {},
   "source": [
    "## Regex Exercises"
   ]
  },
  {
   "cell_type": "code",
   "execution_count": 294,
   "id": "862b773a",
   "metadata": {},
   "outputs": [],
   "source": [
    "import re\n",
    "import pandas as pd"
   ]
  },
  {
   "cell_type": "markdown",
   "id": "323d87c2",
   "metadata": {},
   "source": [
    "### Write a function named `is_vowel`. It should accept a string as input and use a regular expression to determine if the passed string is a vowel. While not explicity mentioned in the lesson, you can treat the result of `re.search` as a boolean value that indicates whether or not the regular expression matches the given string.\n",
    "\n"
   ]
  },
  {
   "cell_type": "code",
   "execution_count": 20,
   "id": "f3d2ff7b",
   "metadata": {},
   "outputs": [],
   "source": [
    "def is_vowel(s: str)-> bool:\n",
    "    '''Takes a string and determines if the string has a vowel\n",
    "    '''\n",
    "    regex = '[aeiouAEIOU][A-Za-z0-9_]*'\n",
    "    return True if re.search(regex, s) else False"
   ]
  },
  {
   "cell_type": "markdown",
   "id": "79346a39",
   "metadata": {},
   "source": [
    "### Write a function named `is_valid_username` that accepts a string as input. A valid username starts with a lowercase letter, and only consists of lowercase letters, numbers, or the _ character. It should also be no longer than 32 characters. The function should return either `True` or `False` depending on whether the passed string is a valid username."
   ]
  },
  {
   "cell_type": "code",
   "execution_count": 71,
   "id": "b773a3bb",
   "metadata": {},
   "outputs": [],
   "source": [
    "def is_valid_username(s: str)-> bool:\n",
    "    '''Takes a string and checks if it starts with lowercase letter\n",
    "    and only consists of lowercase letters, numbers, or the _ character\n",
    "    and checks that it isn't longer than 32 characters, returns True or \n",
    "    False.\n",
    "    '''\n",
    "    regex = r'^[a-z0-9_]{1,32}$'\n",
    "    return True if re.search(regex, s) else False"
   ]
  },
  {
   "cell_type": "markdown",
   "id": "c1782706",
   "metadata": {},
   "source": [
    "### Write a regular expression to capture phone numbers. It should match all of the following:\n",
    "```\n",
    "(210) 867 5309\n",
    "+1 210.867.5309\n",
    "867-5309\n",
    "210-867-5309\n",
    "```"
   ]
  },
  {
   "cell_type": "code",
   "execution_count": 453,
   "id": "af2a5c7f",
   "metadata": {},
   "outputs": [
    {
     "data": {
      "text/html": [
       "<div>\n",
       "<style scoped>\n",
       "    .dataframe tbody tr th:only-of-type {\n",
       "        vertical-align: middle;\n",
       "    }\n",
       "\n",
       "    .dataframe tbody tr th {\n",
       "        vertical-align: top;\n",
       "    }\n",
       "\n",
       "    .dataframe thead th {\n",
       "        text-align: right;\n",
       "    }\n",
       "</style>\n",
       "<table border=\"1\" class=\"dataframe\">\n",
       "  <thead>\n",
       "    <tr style=\"text-align: right;\">\n",
       "      <th></th>\n",
       "      <th>country_code</th>\n",
       "      <th>area_code</th>\n",
       "      <th>phone1</th>\n",
       "      <th>phone2</th>\n",
       "    </tr>\n",
       "  </thead>\n",
       "  <tbody>\n",
       "    <tr>\n",
       "      <th>0</th>\n",
       "      <td></td>\n",
       "      <td>210</td>\n",
       "      <td>867</td>\n",
       "      <td>5309</td>\n",
       "    </tr>\n",
       "    <tr>\n",
       "      <th>1</th>\n",
       "      <td></td>\n",
       "      <td>210</td>\n",
       "      <td>867</td>\n",
       "      <td>5309</td>\n",
       "    </tr>\n",
       "    <tr>\n",
       "      <th>2</th>\n",
       "      <td>+1</td>\n",
       "      <td>210</td>\n",
       "      <td>867</td>\n",
       "      <td>5309</td>\n",
       "    </tr>\n",
       "    <tr>\n",
       "      <th>3</th>\n",
       "      <td></td>\n",
       "      <td></td>\n",
       "      <td>867</td>\n",
       "      <td>5309</td>\n",
       "    </tr>\n",
       "    <tr>\n",
       "      <th>4</th>\n",
       "      <td></td>\n",
       "      <td>210</td>\n",
       "      <td>867</td>\n",
       "      <td>5309</td>\n",
       "    </tr>\n",
       "  </tbody>\n",
       "</table>\n",
       "</div>"
      ],
      "text/plain": [
       "  country_code area_code phone1 phone2\n",
       "0                    210    867   5309\n",
       "1                    210    867   5309\n",
       "2           +1       210    867   5309\n",
       "3                           867   5309\n",
       "4                    210    867   5309"
      ]
     },
     "execution_count": 453,
     "metadata": {},
     "output_type": "execute_result"
    }
   ],
   "source": [
    "def capture_phone_number(s: str):\n",
    "    ''' \\((\\d+)\\)\n",
    "    '''\n",
    "    \n",
    "    regex = r'''\n",
    "    (?P<country_code>\\+?1)?\n",
    "    .?\n",
    "    (?P<area_code>\\d{3})?[\\)]? \n",
    "    .\n",
    "    (?P<phone1>\\d{3})\n",
    "    .\n",
    "    (?P<phone2>\\d{4})'''\n",
    "    \n",
    "    verb_item_pat = re.compile(regex, re.VERBOSE)\n",
    "    return verb_item_pat.findall(s)\n",
    "\n",
    "p1 = '(210) 867 5309'\n",
    "p2 = '+1 210.867.5309'\n",
    "p3 = '867-5309'\n",
    "p4 = '210-867-5309'\n",
    "test1 = f'''\n",
    "This is some crazy test string that is\n",
    "to capture a phone number {p1} {p1} {p2} {p3} {p4}\n",
    "'''\n",
    "\n",
    "match = capture_phone_number(test1)\n",
    "match\n",
    "df = pd.DataFrame([{'country_code': m[0],\n",
    "            'area_code': m[1],\n",
    "           'phone1': m[2],\n",
    "           'phone2': m[3]} for m in match])\n",
    "df"
   ]
  },
  {
   "cell_type": "markdown",
   "id": "3c0ac0fd",
   "metadata": {},
   "source": [
    "### Use regular expressions to convert the dates below to the standardized year-month-day format.\n",
    "\n",
    "```\n",
    "02/04/19\n",
    "02/05/19\n",
    "02/06/19\n",
    "02/07/19\n",
    "02/08/19\n",
    "02/09/19\n",
    "02/10/19\n",
    "```"
   ]
  },
  {
   "cell_type": "code",
   "execution_count": 456,
   "id": "2bf6593d",
   "metadata": {},
   "outputs": [
    {
     "data": {
      "text/html": [
       "<div>\n",
       "<style scoped>\n",
       "    .dataframe tbody tr th:only-of-type {\n",
       "        vertical-align: middle;\n",
       "    }\n",
       "\n",
       "    .dataframe tbody tr th {\n",
       "        vertical-align: top;\n",
       "    }\n",
       "\n",
       "    .dataframe thead th {\n",
       "        text-align: right;\n",
       "    }\n",
       "</style>\n",
       "<table border=\"1\" class=\"dataframe\">\n",
       "  <thead>\n",
       "    <tr style=\"text-align: right;\">\n",
       "      <th></th>\n",
       "      <th>month</th>\n",
       "      <th>day</th>\n",
       "      <th>year</th>\n",
       "    </tr>\n",
       "  </thead>\n",
       "  <tbody>\n",
       "    <tr>\n",
       "      <th>0</th>\n",
       "      <td>02</td>\n",
       "      <td>04</td>\n",
       "      <td>19</td>\n",
       "    </tr>\n",
       "    <tr>\n",
       "      <th>1</th>\n",
       "      <td>02</td>\n",
       "      <td>05</td>\n",
       "      <td>19</td>\n",
       "    </tr>\n",
       "    <tr>\n",
       "      <th>2</th>\n",
       "      <td>02</td>\n",
       "      <td>06</td>\n",
       "      <td>19</td>\n",
       "    </tr>\n",
       "    <tr>\n",
       "      <th>3</th>\n",
       "      <td>02</td>\n",
       "      <td>07</td>\n",
       "      <td>19</td>\n",
       "    </tr>\n",
       "    <tr>\n",
       "      <th>4</th>\n",
       "      <td>02</td>\n",
       "      <td>08</td>\n",
       "      <td>19</td>\n",
       "    </tr>\n",
       "    <tr>\n",
       "      <th>5</th>\n",
       "      <td>02</td>\n",
       "      <td>09</td>\n",
       "      <td>19</td>\n",
       "    </tr>\n",
       "    <tr>\n",
       "      <th>6</th>\n",
       "      <td>02</td>\n",
       "      <td>10</td>\n",
       "      <td>19</td>\n",
       "    </tr>\n",
       "  </tbody>\n",
       "</table>\n",
       "</div>"
      ],
      "text/plain": [
       "  month day year\n",
       "0    02  04   19\n",
       "1    02  05   19\n",
       "2    02  06   19\n",
       "3    02  07   19\n",
       "4    02  08   19\n",
       "5    02  09   19\n",
       "6    02  10   19"
      ]
     },
     "execution_count": 456,
     "metadata": {},
     "output_type": "execute_result"
    }
   ],
   "source": [
    "def capture_date(s: str):\n",
    "    ''' \n",
    "    '''\n",
    "    \n",
    "    regex = r'''\n",
    "    (?P<month>\\d{2})\n",
    "    .\n",
    "    (?P<day>\\d{2})\n",
    "    .\n",
    "    (?P<year>\\d{2})'''\n",
    "    \n",
    "    verb_item_pat = re.compile(regex, re.VERBOSE)\n",
    "    return verb_item_pat.findall(s)\n",
    "\n",
    "test1 = '''\n",
    "02/04/19\n",
    "02/05/19\n",
    "02/06/19\n",
    "02/07/19\n",
    "02/08/19\n",
    "02/09/19\n",
    "02/10/19\n",
    "'''\n",
    "match = capture_date(test1)\n",
    "match\n",
    "df = pd.DataFrame([{'month': m[0],\n",
    "            'day': m[1],\n",
    "           'year': m[2]} for m in match])\n",
    "df"
   ]
  },
  {
   "cell_type": "markdown",
   "id": "e45a495f",
   "metadata": {},
   "source": [
    "### Write a regex to extract the various parts of these logfile lines:\n",
    "\n",
    "```\n",
    "GET /api/v1/sales?page=86 [16/Apr/2019:193452+0000] HTTP/1.1 {200} 510348 \"python-requests/2.21.0\" 97.105.19.58\n",
    "POST /users_accounts/file-upload [16/Apr/2019:193452+0000] HTTP/1.1 {201} 42 \"User-Agent: Mozilla/5.0 (X11; Fedora; Fedora; Linux x86_64) AppleWebKit/537.36 (KHTML, like Gecko) Chrome/73.0.3683.86 Safari/537.36\" 97.105.19.58\n",
    "GET /api/v1/items?page=3 [16/Apr/2019:193453+0000] HTTP/1.1 {429} 3561 \"python-requests/2.21.0\" 97.105.19.58\n",
    "```"
   ]
  },
  {
   "cell_type": "code",
   "execution_count": 471,
   "id": "bff9d7df",
   "metadata": {},
   "outputs": [],
   "source": [
    "logfile = \"\"\"GET /api/v1/sales?page=86 [16/Apr/2019:193452+0000] HTTP/1.1 {200} 510348 \"python-requests/2.21.0\" 97.105.19.58\n",
    "POST /users_accounts/file-upload [16/Apr/2019:193452+0000] HTTP/1.1 {201} 42 \"User-Agent: Mozilla/5.0 (X11; Fedora; Fedora; Linux x86_64) AppleWebKit/537.36 (KHTML, like Gecko) Chrome/73.0.3683.86 Safari/537.36\" 97.105.19.58\n",
    "GET /api/v1/items?page=3 [16/Apr/2019:193453+0000] HTTP/1.1 {429} 3561 \"python-requests/2.21.0\" 97.105.19.58\"\"\"\n"
   ]
  },
  {
   "cell_type": "code",
   "execution_count": 559,
   "id": "dc9e74c4",
   "metadata": {},
   "outputs": [
    {
     "data": {
      "text/html": [
       "<div>\n",
       "<style scoped>\n",
       "    .dataframe tbody tr th:only-of-type {\n",
       "        vertical-align: middle;\n",
       "    }\n",
       "\n",
       "    .dataframe tbody tr th {\n",
       "        vertical-align: top;\n",
       "    }\n",
       "\n",
       "    .dataframe thead th {\n",
       "        text-align: right;\n",
       "    }\n",
       "</style>\n",
       "<table border=\"1\" class=\"dataframe\">\n",
       "  <thead>\n",
       "    <tr style=\"text-align: right;\">\n",
       "      <th></th>\n",
       "    </tr>\n",
       "  </thead>\n",
       "  <tbody>\n",
       "  </tbody>\n",
       "</table>\n",
       "</div>"
      ],
      "text/plain": [
       "Empty DataFrame\n",
       "Columns: []\n",
       "Index: []"
      ]
     },
     "execution_count": 559,
     "metadata": {},
     "output_type": "execute_result"
    }
   ],
   "source": [
    "def parse_logfile(s: str):\n",
    "    ''' r'.*?\\[(.*)].*'\n",
    "    '''\n",
    "    \n",
    "    regex = r'''\n",
    "    (?P<request>[A-Z](.*?)[\\s])\n",
    "    (!P<path>)\n",
    "    \n",
    "    '''\n",
    "    \n",
    "    verb_item_pat = re.compile(regex, re.VERBOSE)\n",
    "    return verb_item_pat.findall(s)\n",
    "\n",
    "match = parse_logfile(logfile)\n",
    "match\n",
    "df = pd.DataFrame([{'request': m[0],\n",
    "                   'path': m[1]} for m in match])\n",
    "df"
   ]
  }
 ],
 "metadata": {
  "kernelspec": {
   "display_name": "Python 3",
   "language": "python",
   "name": "python3"
  },
  "language_info": {
   "codemirror_mode": {
    "name": "ipython",
    "version": 3
   },
   "file_extension": ".py",
   "mimetype": "text/x-python",
   "name": "python",
   "nbconvert_exporter": "python",
   "pygments_lexer": "ipython3",
   "version": "3.8.8"
  }
 },
 "nbformat": 4,
 "nbformat_minor": 5
}
